{
 "cells": [
  {
   "cell_type": "code",
   "execution_count": 69,
   "metadata": {},
   "outputs": [],
   "source": [
    "import requests\n",
    "from tqdm import tqdm_notebook as tqdm\n",
    "import json\n",
    "from collections import OrderedDict\n",
    "import pprint\n",
    "import numpy as np\n",
    "import os\n",
    "\n",
    "# 都道府県コードリストの取得\n",
    "area_code = []\n",
    "def get_areacode():\n",
    "    global area_code\n",
    "    for j in range(1,48):\n",
    "        if j in range(10):\n",
    "            area_code.append(\"0\"+str(j))\n",
    "        else:\n",
    "            area_code.append(str(j))\n",
    "    print(\"都道府県コードリスト取得完了。都道府県コードリストの長さは\",len(area_code))\n",
    "\n",
    "# 市町村コードリストの取得\n",
    "citycode_list = []\n",
    "def get_citycode():\n",
    "    global citycode_list\n",
    "    for area in tqdm(area_code, desc=\"市町村コード取得\"):\n",
    "        r = requests.get(\"http://www.land.mlit.go.jp/webland/api/CitySearch\", {\"area\": area})\n",
    "        for data in r.json()[\"data\"]:\n",
    "                    if(\"id\" in data):\n",
    "                        citycode_list.append(data[\"id\"])\n",
    "    print(\"市町村コードリスト取得完了. 市町村コードリストの長さは\",len(citycode_list))\n",
    "\n",
    "#時間かかるやつ\n",
    "output = {}\n",
    "def get_pricelist():\n",
    "    global output\n",
    "    for area in tqdm(citycode_list, desc=\"場所ごとの地価平均取得\"):\n",
    "        pricedict_in_area = {}\n",
    "        for i in tqdm(range(2006, 2019), desc=\"一年ごとにとってきています\"):\n",
    "            payload = {\"from\": str(i) + '1', \"to\":str(i) + \"4\", \"city\": area}\n",
    "            r = requests.get('http://www.land.mlit.go.jp/webland/api/TradeListSearch', params=payload)\n",
    "            area_price = []\n",
    "            for data in r.json()[\"data\"]:\n",
    "                if(\"PricePerUnit\" in data):\n",
    "                    area_price.append(data[\"PricePerUnit\"])\n",
    "            mean_price = np.mean([int(price) for price in area_price])\n",
    "            median_price = np.median([int(price) for price in area_price])\n",
    "            standard_deviation_price = np.std([int(price) for price in area_price])\n",
    "            pricedict_in_area[i] = {\"mean\":mean_price, \"median\": median_price, \"std\": standard_deviation_price}\n",
    "            print(\"市町村コード\",area,\"の\",i,\"年のデータを取得完了\")\n",
    "        output[area] = pricedict_in_area\n",
    "        print(\"市町村コード\",area,\"の地価取得完了\")\n",
    "    print(\"地価取得完了. 長さ=\",len(output))\n",
    "\n",
    "# JSON書き出し\n",
    "def write_json():\n",
    "    with open(os.getcwd()+'/output.json', mode='w') as f:\n",
    "        json.dump(output, f, indent=3, sort_keys=True)\n",
    "    print(\"書き出し終了！\")"
   ]
  },
  {
   "cell_type": "code",
   "execution_count": 71,
   "metadata": {},
   "outputs": [],
   "source": [
    "if __name__ == \"__main__\":\n",
    "    get_areacode()\n",
    "    get_citycode()\n",
    "    get_pricelist()\n",
    "    write_json()"
   ]
  }
 ],
 "metadata": {
  "kernelspec": {
   "display_name": "Python 3",
   "language": "python",
   "name": "python3"
  },
  "language_info": {
   "codemirror_mode": {
    "name": "ipython",
    "version": 3
   },
   "file_extension": ".py",
   "mimetype": "text/x-python",
   "name": "python",
   "nbconvert_exporter": "python",
   "pygments_lexer": "ipython3",
   "version": "3.7.1"
  }
 },
 "nbformat": 4,
 "nbformat_minor": 2
}
